{
 "cells": [
  {
   "cell_type": "markdown",
   "id": "preceding-sustainability",
   "metadata": {},
   "source": [
    "This is an example solution to the Bio Data Scientist technical screen, using the data in `simulated_counts.txt`.  This solution is in Python, and generally the solution should be similar for R.  There are several key things we are looking for.  \n",
    "\n",
    "- How much are they inspecting the data.\n",
    "- How much are they plotting the data.\n",
    "- Are they aware of gotchas."
   ]
  },
  {
   "cell_type": "code",
   "execution_count": 1,
   "id": "confused-board",
   "metadata": {
    "ExecuteTime": {
     "end_time": "2021-03-09T19:57:17.823496Z",
     "start_time": "2021-03-09T19:57:17.388134Z"
    }
   },
   "outputs": [
    {
     "name": "stdout",
     "output_type": "stream",
     "text": [
      "(42000, 6)\n"
     ]
    },
    {
     "data": {
      "text/html": [
       "<div>\n",
       "<style scoped>\n",
       "    .dataframe tbody tr th:only-of-type {\n",
       "        vertical-align: middle;\n",
       "    }\n",
       "\n",
       "    .dataframe tbody tr th {\n",
       "        vertical-align: top;\n",
       "    }\n",
       "\n",
       "    .dataframe thead th {\n",
       "        text-align: right;\n",
       "    }\n",
       "</style>\n",
       "<table border=\"1\" class=\"dataframe\">\n",
       "  <thead>\n",
       "    <tr style=\"text-align: right;\">\n",
       "      <th></th>\n",
       "      <th>gene</th>\n",
       "      <th>spacer</th>\n",
       "      <th>control_1</th>\n",
       "      <th>control_2</th>\n",
       "      <th>condition_1</th>\n",
       "      <th>condition_2</th>\n",
       "    </tr>\n",
       "  </thead>\n",
       "  <tbody>\n",
       "    <tr>\n",
       "      <th>0</th>\n",
       "      <td>1</td>\n",
       "      <td>TCAAGGTGTGTTAAAGTTTT</td>\n",
       "      <td>260</td>\n",
       "      <td>86</td>\n",
       "      <td>18</td>\n",
       "      <td>3</td>\n",
       "    </tr>\n",
       "    <tr>\n",
       "      <th>1</th>\n",
       "      <td>1</td>\n",
       "      <td>GTCCCTTGTAATTACGGATT</td>\n",
       "      <td>118</td>\n",
       "      <td>95</td>\n",
       "      <td>8</td>\n",
       "      <td>7</td>\n",
       "    </tr>\n",
       "    <tr>\n",
       "      <th>2</th>\n",
       "      <td>1</td>\n",
       "      <td>TGTAAACCTAGATTGACCTT</td>\n",
       "      <td>167</td>\n",
       "      <td>44</td>\n",
       "      <td>7</td>\n",
       "      <td>3</td>\n",
       "    </tr>\n",
       "    <tr>\n",
       "      <th>3</th>\n",
       "      <td>1</td>\n",
       "      <td>CCGAAGTGTGTCCTGAATCT</td>\n",
       "      <td>88</td>\n",
       "      <td>86</td>\n",
       "      <td>28</td>\n",
       "      <td>23</td>\n",
       "    </tr>\n",
       "    <tr>\n",
       "      <th>4</th>\n",
       "      <td>1</td>\n",
       "      <td>TGATCCACGCTTTTATCTTA</td>\n",
       "      <td>96</td>\n",
       "      <td>92</td>\n",
       "      <td>6</td>\n",
       "      <td>6</td>\n",
       "    </tr>\n",
       "  </tbody>\n",
       "</table>\n",
       "</div>"
      ],
      "text/plain": [
       "  gene                spacer  control_1  control_2  condition_1  condition_2\n",
       "0    1  TCAAGGTGTGTTAAAGTTTT        260         86           18            3\n",
       "1    1  GTCCCTTGTAATTACGGATT        118         95            8            7\n",
       "2    1  TGTAAACCTAGATTGACCTT        167         44            7            3\n",
       "3    1  CCGAAGTGTGTCCTGAATCT         88         86           28           23\n",
       "4    1  TGATCCACGCTTTTATCTTA         96         92            6            6"
      ]
     },
     "execution_count": 1,
     "metadata": {},
     "output_type": "execute_result"
    }
   ],
   "source": [
    "import pandas as pd\n",
    "\n",
    "x = pd.read_csv(\"simulated_counts.txt\", sep = \"\\t\")\n",
    "print(x.shape)\n",
    "x.head()"
   ]
  },
  {
   "cell_type": "code",
   "execution_count": 2,
   "id": "statutory-timothy",
   "metadata": {
    "ExecuteTime": {
     "end_time": "2021-03-09T19:57:17.834952Z",
     "start_time": "2021-03-09T19:57:17.826411Z"
    }
   },
   "outputs": [
    {
     "data": {
      "text/plain": [
       "2001"
      ]
     },
     "execution_count": 2,
     "metadata": {},
     "output_type": "execute_result"
    }
   ],
   "source": [
    "# how many genes are there?\n",
    "x['gene'].nunique()"
   ]
  },
  {
   "cell_type": "code",
   "execution_count": 3,
   "id": "noticed-elimination",
   "metadata": {
    "ExecuteTime": {
     "end_time": "2021-03-09T19:57:17.848685Z",
     "start_time": "2021-03-09T19:57:17.837452Z"
    }
   },
   "outputs": [
    {
     "data": {
      "text/plain": [
       "20      2000\n",
       "2000       1\n",
       "Name: gene, dtype: int64"
      ]
     },
     "execution_count": 3,
     "metadata": {},
     "output_type": "execute_result"
    }
   ],
   "source": [
    "# how many of each gene?\n",
    "x['gene'].value_counts().value_counts()"
   ]
  },
  {
   "cell_type": "code",
   "execution_count": 4,
   "id": "czech-blackjack",
   "metadata": {
    "ExecuteTime": {
     "end_time": "2021-03-09T19:57:17.864182Z",
     "start_time": "2021-03-09T19:57:17.851180Z"
    }
   },
   "outputs": [
    {
     "data": {
      "text/plain": [
       "random    2000\n",
       "743         20\n",
       "251         20\n",
       "879         20\n",
       "1851        20\n",
       "          ... \n",
       "1990        20\n",
       "333         20\n",
       "587         20\n",
       "1724        20\n",
       "238         20\n",
       "Name: gene, Length: 2001, dtype: int64"
      ]
     },
     "execution_count": 4,
     "metadata": {},
     "output_type": "execute_result"
    }
   ],
   "source": [
    "x['gene'].value_counts()"
   ]
  },
  {
   "cell_type": "code",
   "execution_count": 5,
   "id": "permanent-assembly",
   "metadata": {
    "ExecuteTime": {
     "end_time": "2021-03-09T19:57:17.878971Z",
     "start_time": "2021-03-09T19:57:17.866170Z"
    }
   },
   "outputs": [
    {
     "data": {
      "text/plain": [
       "2000"
      ]
     },
     "execution_count": 5,
     "metadata": {},
     "output_type": "execute_result"
    }
   ],
   "source": [
    "# create variable for negative control guides\n",
    "x['random'] = (x['gene'] == 'random')\n",
    "sum(x['random'])"
   ]
  },
  {
   "cell_type": "code",
   "execution_count": 6,
   "id": "grave-grove",
   "metadata": {
    "ExecuteTime": {
     "end_time": "2021-03-09T19:57:17.903668Z",
     "start_time": "2021-03-09T19:57:17.881013Z"
    }
   },
   "outputs": [
    {
     "data": {
      "text/html": [
       "<div>\n",
       "<style scoped>\n",
       "    .dataframe tbody tr th:only-of-type {\n",
       "        vertical-align: middle;\n",
       "    }\n",
       "\n",
       "    .dataframe tbody tr th {\n",
       "        vertical-align: top;\n",
       "    }\n",
       "\n",
       "    .dataframe thead th {\n",
       "        text-align: right;\n",
       "    }\n",
       "</style>\n",
       "<table border=\"1\" class=\"dataframe\">\n",
       "  <thead>\n",
       "    <tr style=\"text-align: right;\">\n",
       "      <th></th>\n",
       "      <th>gene</th>\n",
       "      <th>spacer</th>\n",
       "      <th>control_1</th>\n",
       "      <th>control_2</th>\n",
       "      <th>condition_1</th>\n",
       "      <th>condition_2</th>\n",
       "      <th>random</th>\n",
       "      <th>lfc_1</th>\n",
       "      <th>lfc_2</th>\n",
       "    </tr>\n",
       "  </thead>\n",
       "  <tbody>\n",
       "    <tr>\n",
       "      <th>0</th>\n",
       "      <td>1</td>\n",
       "      <td>TCAAGGTGTGTTAAAGTTTT</td>\n",
       "      <td>260</td>\n",
       "      <td>86</td>\n",
       "      <td>18</td>\n",
       "      <td>3</td>\n",
       "      <td>False</td>\n",
       "      <td>-2.620081</td>\n",
       "      <td>-3.079614</td>\n",
       "    </tr>\n",
       "    <tr>\n",
       "      <th>1</th>\n",
       "      <td>1</td>\n",
       "      <td>GTCCCTTGTAATTACGGATT</td>\n",
       "      <td>118</td>\n",
       "      <td>95</td>\n",
       "      <td>8</td>\n",
       "      <td>7</td>\n",
       "      <td>False</td>\n",
       "      <td>-2.581899</td>\n",
       "      <td>-2.484907</td>\n",
       "    </tr>\n",
       "    <tr>\n",
       "      <th>2</th>\n",
       "      <td>1</td>\n",
       "      <td>TGTAAACCTAGATTGACCTT</td>\n",
       "      <td>167</td>\n",
       "      <td>44</td>\n",
       "      <td>7</td>\n",
       "      <td>3</td>\n",
       "      <td>False</td>\n",
       "      <td>-3.044522</td>\n",
       "      <td>-2.420368</td>\n",
       "    </tr>\n",
       "    <tr>\n",
       "      <th>3</th>\n",
       "      <td>1</td>\n",
       "      <td>CCGAAGTGTGTCCTGAATCT</td>\n",
       "      <td>88</td>\n",
       "      <td>86</td>\n",
       "      <td>28</td>\n",
       "      <td>23</td>\n",
       "      <td>False</td>\n",
       "      <td>-1.121341</td>\n",
       "      <td>-1.287854</td>\n",
       "    </tr>\n",
       "    <tr>\n",
       "      <th>4</th>\n",
       "      <td>1</td>\n",
       "      <td>TGATCCACGCTTTTATCTTA</td>\n",
       "      <td>96</td>\n",
       "      <td>92</td>\n",
       "      <td>6</td>\n",
       "      <td>6</td>\n",
       "      <td>False</td>\n",
       "      <td>-2.628801</td>\n",
       "      <td>-2.586689</td>\n",
       "    </tr>\n",
       "  </tbody>\n",
       "</table>\n",
       "</div>"
      ],
      "text/plain": [
       "  gene                spacer  control_1  control_2  condition_1  condition_2  \\\n",
       "0    1  TCAAGGTGTGTTAAAGTTTT        260         86           18            3   \n",
       "1    1  GTCCCTTGTAATTACGGATT        118         95            8            7   \n",
       "2    1  TGTAAACCTAGATTGACCTT        167         44            7            3   \n",
       "3    1  CCGAAGTGTGTCCTGAATCT         88         86           28           23   \n",
       "4    1  TGATCCACGCTTTTATCTTA         96         92            6            6   \n",
       "\n",
       "   random     lfc_1     lfc_2  \n",
       "0   False -2.620081 -3.079614  \n",
       "1   False -2.581899 -2.484907  \n",
       "2   False -3.044522 -2.420368  \n",
       "3   False -1.121341 -1.287854  \n",
       "4   False -2.628801 -2.586689  "
      ]
     },
     "execution_count": 6,
     "metadata": {},
     "output_type": "execute_result"
    }
   ],
   "source": [
    "import numpy as np\n",
    "x['lfc_1'] = np.log(x['condition_1'] + 1) - np.log(x['control_1'] + 1)\n",
    "x['lfc_2'] = np.log(x['condition_2'] + 1) - np.log(x['control_2'] + 1)\n",
    "x.head()"
   ]
  },
  {
   "cell_type": "code",
   "execution_count": 7,
   "id": "approximate-sampling",
   "metadata": {
    "ExecuteTime": {
     "end_time": "2021-03-09T19:57:20.037305Z",
     "start_time": "2021-03-09T19:57:17.905705Z"
    }
   },
   "outputs": [
    {
     "data": {
      "text/plain": [
       "<AxesSubplot:xlabel='lfc_1', ylabel='lfc_2'>"
      ]
     },
     "execution_count": 7,
     "metadata": {},
     "output_type": "execute_result"
    },
    {
     "data": {
      "image/png": "[encoded data removed]",
      "text/plain": [
       "<Figure size 432x288 with 1 Axes>"
      ]
     },
     "metadata": {
      "needs_background": "light"
     },
     "output_type": "display_data"
    }
   ],
   "source": [
    "# how consistent are the replicates?\n",
    "import seaborn\n",
    "seaborn.scatterplot(data = x, x = 'lfc_1', y = 'lfc_2', hue = 'random', alpha = 0.5, palette = 'Set1')"
   ]
  },
  {
   "cell_type": "code",
   "execution_count": 8,
   "id": "lesbian-capital",
   "metadata": {
    "ExecuteTime": {
     "end_time": "2021-03-09T19:57:20.053522Z",
     "start_time": "2021-03-09T19:57:20.044481Z"
    }
   },
   "outputs": [
    {
     "data": {
      "text/html": [
       "<div>\n",
       "<style scoped>\n",
       "    .dataframe tbody tr th:only-of-type {\n",
       "        vertical-align: middle;\n",
       "    }\n",
       "\n",
       "    .dataframe tbody tr th {\n",
       "        vertical-align: top;\n",
       "    }\n",
       "\n",
       "    .dataframe thead th {\n",
       "        text-align: right;\n",
       "    }\n",
       "</style>\n",
       "<table border=\"1\" class=\"dataframe\">\n",
       "  <thead>\n",
       "    <tr style=\"text-align: right;\">\n",
       "      <th></th>\n",
       "      <th>lfc_1</th>\n",
       "      <th>lfc_2</th>\n",
       "    </tr>\n",
       "  </thead>\n",
       "  <tbody>\n",
       "    <tr>\n",
       "      <th>lfc_1</th>\n",
       "      <td>1.000000</td>\n",
       "      <td>0.664937</td>\n",
       "    </tr>\n",
       "    <tr>\n",
       "      <th>lfc_2</th>\n",
       "      <td>0.664937</td>\n",
       "      <td>1.000000</td>\n",
       "    </tr>\n",
       "  </tbody>\n",
       "</table>\n",
       "</div>"
      ],
      "text/plain": [
       "          lfc_1     lfc_2\n",
       "lfc_1  1.000000  0.664937\n",
       "lfc_2  0.664937  1.000000"
      ]
     },
     "execution_count": 8,
     "metadata": {},
     "output_type": "execute_result"
    }
   ],
   "source": [
    "x[['lfc_1', 'lfc_2']].corr()"
   ]
  },
  {
   "cell_type": "code",
   "execution_count": 9,
   "id": "pleasant-exposure",
   "metadata": {
    "ExecuteTime": {
     "end_time": "2021-03-09T19:57:20.079061Z",
     "start_time": "2021-03-09T19:57:20.056411Z"
    }
   },
   "outputs": [
    {
     "data": {
      "text/html": [
       "<div>\n",
       "<style scoped>\n",
       "    .dataframe tbody tr th:only-of-type {\n",
       "        vertical-align: middle;\n",
       "    }\n",
       "\n",
       "    .dataframe tbody tr th {\n",
       "        vertical-align: top;\n",
       "    }\n",
       "\n",
       "    .dataframe thead th {\n",
       "        text-align: right;\n",
       "    }\n",
       "</style>\n",
       "<table border=\"1\" class=\"dataframe\">\n",
       "  <thead>\n",
       "    <tr style=\"text-align: right;\">\n",
       "      <th></th>\n",
       "      <th>gene</th>\n",
       "      <th>spacer</th>\n",
       "      <th>control_1</th>\n",
       "      <th>control_2</th>\n",
       "      <th>condition_1</th>\n",
       "      <th>condition_2</th>\n",
       "      <th>random</th>\n",
       "      <th>lfc_1</th>\n",
       "      <th>lfc_2</th>\n",
       "      <th>avg_lfc</th>\n",
       "    </tr>\n",
       "  </thead>\n",
       "  <tbody>\n",
       "    <tr>\n",
       "      <th>0</th>\n",
       "      <td>1</td>\n",
       "      <td>TCAAGGTGTGTTAAAGTTTT</td>\n",
       "      <td>260</td>\n",
       "      <td>86</td>\n",
       "      <td>18</td>\n",
       "      <td>3</td>\n",
       "      <td>False</td>\n",
       "      <td>-2.620081</td>\n",
       "      <td>-3.079614</td>\n",
       "      <td>-2.849848</td>\n",
       "    </tr>\n",
       "    <tr>\n",
       "      <th>1</th>\n",
       "      <td>1</td>\n",
       "      <td>GTCCCTTGTAATTACGGATT</td>\n",
       "      <td>118</td>\n",
       "      <td>95</td>\n",
       "      <td>8</td>\n",
       "      <td>7</td>\n",
       "      <td>False</td>\n",
       "      <td>-2.581899</td>\n",
       "      <td>-2.484907</td>\n",
       "      <td>-2.533403</td>\n",
       "    </tr>\n",
       "    <tr>\n",
       "      <th>2</th>\n",
       "      <td>1</td>\n",
       "      <td>TGTAAACCTAGATTGACCTT</td>\n",
       "      <td>167</td>\n",
       "      <td>44</td>\n",
       "      <td>7</td>\n",
       "      <td>3</td>\n",
       "      <td>False</td>\n",
       "      <td>-3.044522</td>\n",
       "      <td>-2.420368</td>\n",
       "      <td>-2.732445</td>\n",
       "    </tr>\n",
       "    <tr>\n",
       "      <th>3</th>\n",
       "      <td>1</td>\n",
       "      <td>CCGAAGTGTGTCCTGAATCT</td>\n",
       "      <td>88</td>\n",
       "      <td>86</td>\n",
       "      <td>28</td>\n",
       "      <td>23</td>\n",
       "      <td>False</td>\n",
       "      <td>-1.121341</td>\n",
       "      <td>-1.287854</td>\n",
       "      <td>-1.204597</td>\n",
       "    </tr>\n",
       "    <tr>\n",
       "      <th>4</th>\n",
       "      <td>1</td>\n",
       "      <td>TGATCCACGCTTTTATCTTA</td>\n",
       "      <td>96</td>\n",
       "      <td>92</td>\n",
       "      <td>6</td>\n",
       "      <td>6</td>\n",
       "      <td>False</td>\n",
       "      <td>-2.628801</td>\n",
       "      <td>-2.586689</td>\n",
       "      <td>-2.607745</td>\n",
       "    </tr>\n",
       "  </tbody>\n",
       "</table>\n",
       "</div>"
      ],
      "text/plain": [
       "  gene                spacer  control_1  control_2  condition_1  condition_2  \\\n",
       "0    1  TCAAGGTGTGTTAAAGTTTT        260         86           18            3   \n",
       "1    1  GTCCCTTGTAATTACGGATT        118         95            8            7   \n",
       "2    1  TGTAAACCTAGATTGACCTT        167         44            7            3   \n",
       "3    1  CCGAAGTGTGTCCTGAATCT         88         86           28           23   \n",
       "4    1  TGATCCACGCTTTTATCTTA         96         92            6            6   \n",
       "\n",
       "   random     lfc_1     lfc_2   avg_lfc  \n",
       "0   False -2.620081 -3.079614 -2.849848  \n",
       "1   False -2.581899 -2.484907 -2.533403  \n",
       "2   False -3.044522 -2.420368 -2.732445  \n",
       "3   False -1.121341 -1.287854 -1.204597  \n",
       "4   False -2.628801 -2.586689 -2.607745  "
      ]
     },
     "execution_count": 9,
     "metadata": {},
     "output_type": "execute_result"
    }
   ],
   "source": [
    "col = x.loc[: , \"lfc_1\":\"lfc_2\"]\n",
    "x['avg_lfc'] = col.mean(axis=1)\n",
    "x.head()"
   ]
  },
  {
   "cell_type": "code",
   "execution_count": 10,
   "id": "enabling-venture",
   "metadata": {
    "ExecuteTime": {
     "end_time": "2021-03-09T19:57:20.471100Z",
     "start_time": "2021-03-09T19:57:20.081120Z"
    }
   },
   "outputs": [
    {
     "data": {
      "text/plain": [
       "<AxesSubplot:xlabel='avg_lfc', ylabel='Density'>"
      ]
     },
     "execution_count": 10,
     "metadata": {},
     "output_type": "execute_result"
    },
    {
     "data": {
      "image/png": "[encoded data removed]",
      "text/plain": [
       "<Figure size 432x288 with 1 Axes>"
      ]
     },
     "metadata": {
      "needs_background": "light"
     },
     "output_type": "display_data"
    }
   ],
   "source": [
    "# look at the distribution of avg log fc\n",
    "seaborn.kdeplot(data = x, x = 'avg_lfc', hue = 'random', palette = 'Set1', common_norm = False)"
   ]
  },
  {
   "cell_type": "code",
   "execution_count": 11,
   "id": "latest-leisure",
   "metadata": {
    "ExecuteTime": {
     "end_time": "2021-03-09T19:57:20.480956Z",
     "start_time": "2021-03-09T19:57:20.475899Z"
    }
   },
   "outputs": [
    {
     "data": {
      "text/plain": [
       "-1.6198415259162453"
      ]
     },
     "execution_count": 11,
     "metadata": {},
     "output_type": "execute_result"
    }
   ],
   "source": [
    "x['avg_lfc'].mean()"
   ]
  },
  {
   "cell_type": "code",
   "execution_count": 12,
   "id": "convinced-pressing",
   "metadata": {
    "ExecuteTime": {
     "end_time": "2021-03-09T19:57:20.486833Z",
     "start_time": "2021-03-09T19:57:20.482762Z"
    }
   },
   "outputs": [],
   "source": [
    "x['avg_lfc'] = x['avg_lfc'] - x['avg_lfc'].mean()"
   ]
  },
  {
   "cell_type": "code",
   "execution_count": 13,
   "id": "international-patrol",
   "metadata": {
    "ExecuteTime": {
     "end_time": "2021-03-09T19:57:20.494470Z",
     "start_time": "2021-03-09T19:57:20.488584Z"
    }
   },
   "outputs": [
    {
     "data": {
      "text/plain": [
       "1.7854607566810077"
      ]
     },
     "execution_count": 13,
     "metadata": {},
     "output_type": "execute_result"
    }
   ],
   "source": [
    "x['avg_lfc'].std()"
   ]
  },
  {
   "cell_type": "code",
   "execution_count": 14,
   "id": "split-machine",
   "metadata": {
    "ExecuteTime": {
     "end_time": "2021-03-09T19:57:20.504860Z",
     "start_time": "2021-03-09T19:57:20.496497Z"
    }
   },
   "outputs": [
    {
     "data": {
      "text/plain": [
       "1.682671818634517"
      ]
     },
     "execution_count": 14,
     "metadata": {},
     "output_type": "execute_result"
    }
   ],
   "source": [
    "neg_ctrl_sd = x[x['random'] == True]['avg_lfc'].std()\n",
    "neg_ctrl_sd"
   ]
  },
  {
   "cell_type": "code",
   "execution_count": 15,
   "id": "minimal-university",
   "metadata": {
    "ExecuteTime": {
     "end_time": "2021-03-09T19:57:25.029172Z",
     "start_time": "2021-03-09T19:57:20.508241Z"
    }
   },
   "outputs": [
    {
     "data": {
      "text/html": [
       "<div>\n",
       "<style scoped>\n",
       "    .dataframe tbody tr th:only-of-type {\n",
       "        vertical-align: middle;\n",
       "    }\n",
       "\n",
       "    .dataframe tbody tr th {\n",
       "        vertical-align: top;\n",
       "    }\n",
       "\n",
       "    .dataframe thead th {\n",
       "        text-align: right;\n",
       "    }\n",
       "</style>\n",
       "<table border=\"1\" class=\"dataframe\">\n",
       "  <thead>\n",
       "    <tr style=\"text-align: right;\">\n",
       "      <th></th>\n",
       "      <th>gene</th>\n",
       "      <th>spacer</th>\n",
       "      <th>control_1</th>\n",
       "      <th>control_2</th>\n",
       "      <th>condition_1</th>\n",
       "      <th>condition_2</th>\n",
       "      <th>random</th>\n",
       "      <th>lfc_1</th>\n",
       "      <th>lfc_2</th>\n",
       "      <th>avg_lfc</th>\n",
       "      <th>norm_p_val</th>\n",
       "    </tr>\n",
       "  </thead>\n",
       "  <tbody>\n",
       "    <tr>\n",
       "      <th>0</th>\n",
       "      <td>1</td>\n",
       "      <td>TCAAGGTGTGTTAAAGTTTT</td>\n",
       "      <td>260</td>\n",
       "      <td>86</td>\n",
       "      <td>18</td>\n",
       "      <td>3</td>\n",
       "      <td>False</td>\n",
       "      <td>-2.620081</td>\n",
       "      <td>-3.079614</td>\n",
       "      <td>-1.230006</td>\n",
       "      <td>0.767606</td>\n",
       "    </tr>\n",
       "    <tr>\n",
       "      <th>1</th>\n",
       "      <td>1</td>\n",
       "      <td>GTCCCTTGTAATTACGGATT</td>\n",
       "      <td>118</td>\n",
       "      <td>95</td>\n",
       "      <td>8</td>\n",
       "      <td>7</td>\n",
       "      <td>False</td>\n",
       "      <td>-2.581899</td>\n",
       "      <td>-2.484907</td>\n",
       "      <td>-0.913561</td>\n",
       "      <td>0.706409</td>\n",
       "    </tr>\n",
       "    <tr>\n",
       "      <th>2</th>\n",
       "      <td>1</td>\n",
       "      <td>TGTAAACCTAGATTGACCTT</td>\n",
       "      <td>167</td>\n",
       "      <td>44</td>\n",
       "      <td>7</td>\n",
       "      <td>3</td>\n",
       "      <td>False</td>\n",
       "      <td>-3.044522</td>\n",
       "      <td>-2.420368</td>\n",
       "      <td>-1.112604</td>\n",
       "      <td>0.745762</td>\n",
       "    </tr>\n",
       "    <tr>\n",
       "      <th>3</th>\n",
       "      <td>1</td>\n",
       "      <td>CCGAAGTGTGTCCTGAATCT</td>\n",
       "      <td>88</td>\n",
       "      <td>86</td>\n",
       "      <td>28</td>\n",
       "      <td>23</td>\n",
       "      <td>False</td>\n",
       "      <td>-1.121341</td>\n",
       "      <td>-1.287854</td>\n",
       "      <td>0.415244</td>\n",
       "      <td>0.402541</td>\n",
       "    </tr>\n",
       "    <tr>\n",
       "      <th>4</th>\n",
       "      <td>1</td>\n",
       "      <td>TGATCCACGCTTTTATCTTA</td>\n",
       "      <td>96</td>\n",
       "      <td>92</td>\n",
       "      <td>6</td>\n",
       "      <td>6</td>\n",
       "      <td>False</td>\n",
       "      <td>-2.628801</td>\n",
       "      <td>-2.586689</td>\n",
       "      <td>-0.987904</td>\n",
       "      <td>0.721433</td>\n",
       "    </tr>\n",
       "  </tbody>\n",
       "</table>\n",
       "</div>"
      ],
      "text/plain": [
       "  gene                spacer  control_1  control_2  condition_1  condition_2  \\\n",
       "0    1  TCAAGGTGTGTTAAAGTTTT        260         86           18            3   \n",
       "1    1  GTCCCTTGTAATTACGGATT        118         95            8            7   \n",
       "2    1  TGTAAACCTAGATTGACCTT        167         44            7            3   \n",
       "3    1  CCGAAGTGTGTCCTGAATCT         88         86           28           23   \n",
       "4    1  TGATCCACGCTTTTATCTTA         96         92            6            6   \n",
       "\n",
       "   random     lfc_1     lfc_2   avg_lfc  norm_p_val  \n",
       "0   False -2.620081 -3.079614 -1.230006    0.767606  \n",
       "1   False -2.581899 -2.484907 -0.913561    0.706409  \n",
       "2   False -3.044522 -2.420368 -1.112604    0.745762  \n",
       "3   False -1.121341 -1.287854  0.415244    0.402541  \n",
       "4   False -2.628801 -2.586689 -0.987904    0.721433  "
      ]
     },
     "execution_count": 15,
     "metadata": {},
     "output_type": "execute_result"
    }
   ],
   "source": [
    "import scipy.stats as stats\n",
    "\n",
    "x['norm_p_val'] = x['avg_lfc'].map(lambda y: 1.0 - stats.norm.cdf(y, loc = 0, scale = neg_ctrl_sd))\n",
    "x.head()"
   ]
  },
  {
   "cell_type": "code",
   "execution_count": 16,
   "id": "experienced-hurricane",
   "metadata": {
    "ExecuteTime": {
     "end_time": "2021-03-09T19:57:25.549967Z",
     "start_time": "2021-03-09T19:57:25.030483Z"
    }
   },
   "outputs": [
    {
     "data": {
      "text/plain": [
       "<seaborn.axisgrid.FacetGrid at 0x132af1190>"
      ]
     },
     "execution_count": 16,
     "metadata": {},
     "output_type": "execute_result"
    },
    {
     "data": {
      "image/png": "[encoded data removed]",
      "text/plain": [
       "<Figure size 421.25x360 with 1 Axes>"
      ]
     },
     "metadata": {
      "needs_background": "light"
     },
     "output_type": "display_data"
    }
   ],
   "source": [
    "seaborn.displot(data = x, x = 'norm_p_val', hue = 'random', kde = False,\n",
    "                stat = 'probability', common_norm = False)"
   ]
  },
  {
   "cell_type": "markdown",
   "id": "fuzzy-involvement",
   "metadata": {},
   "source": [
    "The above looks fairly good.  There's a spike near zero which indicates signal, and the rest looks about uniform.  Checking the distribution of the p-values is critical, however they generate the p-values.  The check that there's a spike near zero to indicate signal is important for a post-hoc validation.\n",
    "\n",
    "Now the problem is how to combine p-values.  The most common way is Fisher's method.  If they use this, the major question is what are the drawbacks and benefits of using Fisher's method.  If they've done their research then they would know my feelings about Fisher's method here (see https://timydaley.github.io/FisherVsStouffer.html)."
   ]
  },
  {
   "cell_type": "code",
   "execution_count": 17,
   "id": "rural-perth",
   "metadata": {
    "ExecuteTime": {
     "end_time": "2021-03-09T19:57:25.567453Z",
     "start_time": "2021-03-09T19:57:25.551467Z"
    }
   },
   "outputs": [
    {
     "data": {
      "text/html": [
       "<div>\n",
       "<style scoped>\n",
       "    .dataframe tbody tr th:only-of-type {\n",
       "        vertical-align: middle;\n",
       "    }\n",
       "\n",
       "    .dataframe tbody tr th {\n",
       "        vertical-align: top;\n",
       "    }\n",
       "\n",
       "    .dataframe thead th {\n",
       "        text-align: right;\n",
       "    }\n",
       "</style>\n",
       "<table border=\"1\" class=\"dataframe\">\n",
       "  <thead>\n",
       "    <tr style=\"text-align: right;\">\n",
       "      <th></th>\n",
       "      <th>gene</th>\n",
       "      <th>avg_lfc</th>\n",
       "    </tr>\n",
       "  </thead>\n",
       "  <tbody>\n",
       "    <tr>\n",
       "      <th>0</th>\n",
       "      <td>1</td>\n",
       "      <td>-0.209156</td>\n",
       "    </tr>\n",
       "    <tr>\n",
       "      <th>1</th>\n",
       "      <td>10</td>\n",
       "      <td>-0.280732</td>\n",
       "    </tr>\n",
       "    <tr>\n",
       "      <th>2</th>\n",
       "      <td>100</td>\n",
       "      <td>-0.449904</td>\n",
       "    </tr>\n",
       "    <tr>\n",
       "      <th>3</th>\n",
       "      <td>1000</td>\n",
       "      <td>-0.156761</td>\n",
       "    </tr>\n",
       "    <tr>\n",
       "      <th>4</th>\n",
       "      <td>1001</td>\n",
       "      <td>-0.218284</td>\n",
       "    </tr>\n",
       "  </tbody>\n",
       "</table>\n",
       "</div>"
      ],
      "text/plain": [
       "   gene   avg_lfc\n",
       "0     1 -0.209156\n",
       "1    10 -0.280732\n",
       "2   100 -0.449904\n",
       "3  1000 -0.156761\n",
       "4  1001 -0.218284"
      ]
     },
     "execution_count": 17,
     "metadata": {},
     "output_type": "execute_result"
    }
   ],
   "source": [
    "from scipy.stats import combine_pvalues\n",
    "def fishers_pval(p):\n",
    "    _, f = combine_pvalues(p, method = 'fisher')\n",
    "    return f\n",
    "\n",
    "by_gene = x.groupby('gene', as_index = False)['avg_lfc'].mean()\n",
    "by_gene.sort_values(by = 'gene', inplace = True)\n",
    "by_gene.head()"
   ]
  },
  {
   "cell_type": "code",
   "execution_count": 18,
   "id": "composed-burst",
   "metadata": {
    "ExecuteTime": {
     "end_time": "2021-03-09T19:57:31.018865Z",
     "start_time": "2021-03-09T19:57:25.569390Z"
    }
   },
   "outputs": [
    {
     "data": {
      "text/html": [
       "<div>\n",
       "<style scoped>\n",
       "    .dataframe tbody tr th:only-of-type {\n",
       "        vertical-align: middle;\n",
       "    }\n",
       "\n",
       "    .dataframe tbody tr th {\n",
       "        vertical-align: top;\n",
       "    }\n",
       "\n",
       "    .dataframe thead th {\n",
       "        text-align: right;\n",
       "    }\n",
       "</style>\n",
       "<table border=\"1\" class=\"dataframe\">\n",
       "  <thead>\n",
       "    <tr style=\"text-align: right;\">\n",
       "      <th></th>\n",
       "      <th>gene</th>\n",
       "      <th>avg_lfc</th>\n",
       "      <th>fisher_pval</th>\n",
       "    </tr>\n",
       "  </thead>\n",
       "  <tbody>\n",
       "    <tr>\n",
       "      <th>0</th>\n",
       "      <td>1</td>\n",
       "      <td>-0.209156</td>\n",
       "      <td>0.784617</td>\n",
       "    </tr>\n",
       "    <tr>\n",
       "      <th>1</th>\n",
       "      <td>10</td>\n",
       "      <td>-0.280732</td>\n",
       "      <td>0.853722</td>\n",
       "    </tr>\n",
       "    <tr>\n",
       "      <th>2</th>\n",
       "      <td>100</td>\n",
       "      <td>-0.449904</td>\n",
       "      <td>0.776185</td>\n",
       "    </tr>\n",
       "    <tr>\n",
       "      <th>3</th>\n",
       "      <td>1000</td>\n",
       "      <td>-0.156761</td>\n",
       "      <td>0.326385</td>\n",
       "    </tr>\n",
       "    <tr>\n",
       "      <th>4</th>\n",
       "      <td>1001</td>\n",
       "      <td>-0.218284</td>\n",
       "      <td>0.603739</td>\n",
       "    </tr>\n",
       "  </tbody>\n",
       "</table>\n",
       "</div>"
      ],
      "text/plain": [
       "   gene   avg_lfc  fisher_pval\n",
       "0     1 -0.209156     0.784617\n",
       "1    10 -0.280732     0.853722\n",
       "2   100 -0.449904     0.776185\n",
       "3  1000 -0.156761     0.326385\n",
       "4  1001 -0.218284     0.603739"
      ]
     },
     "execution_count": 18,
     "metadata": {},
     "output_type": "execute_result"
    }
   ],
   "source": [
    "by_gene['fisher_pval'] = [fishers_pval(x[x['gene'] == g]['norm_p_val']) for g in by_gene['gene'].tolist()]\n",
    "by_gene.head()"
   ]
  },
  {
   "cell_type": "code",
   "execution_count": 19,
   "id": "little-squad",
   "metadata": {
    "ExecuteTime": {
     "end_time": "2021-03-09T19:57:31.182523Z",
     "start_time": "2021-03-09T19:57:31.020788Z"
    }
   },
   "outputs": [
    {
     "name": "stderr",
     "output_type": "stream",
     "text": [
      "/Users/tim.daley/git/crispy_code/py39/lib/python3.9/site-packages/seaborn/distributions.py:2557: FutureWarning: `distplot` is a deprecated function and will be removed in a future version. Please adapt your code to use either `displot` (a figure-level function with similar flexibility) or `histplot` (an axes-level function for histograms).\n",
      "  warnings.warn(msg, FutureWarning)\n"
     ]
    },
    {
     "data": {
      "text/plain": [
       "<AxesSubplot:xlabel='fisher_pval'>"
      ]
     },
     "execution_count": 19,
     "metadata": {},
     "output_type": "execute_result"
    },
    {
     "data": {
      "image/png": "[encoded data removed]",
      "text/plain": [
       "<Figure size 432x288 with 1 Axes>"
      ]
     },
     "metadata": {
      "needs_background": "light"
     },
     "output_type": "display_data"
    }
   ],
   "source": [
    "seaborn.distplot(by_gene['fisher_pval'], kde = False, color = 'black')"
   ]
  },
  {
   "cell_type": "markdown",
   "id": "pending-swift",
   "metadata": {},
   "source": [
    "This looks good.  Let's look at the top hits."
   ]
  },
  {
   "cell_type": "code",
   "execution_count": 20,
   "id": "german-supply",
   "metadata": {
    "ExecuteTime": {
     "end_time": "2021-03-09T19:57:31.196639Z",
     "start_time": "2021-03-09T19:57:31.184367Z"
    }
   },
   "outputs": [
    {
     "data": {
      "text/html": [
       "<div>\n",
       "<style scoped>\n",
       "    .dataframe tbody tr th:only-of-type {\n",
       "        vertical-align: middle;\n",
       "    }\n",
       "\n",
       "    .dataframe tbody tr th {\n",
       "        vertical-align: top;\n",
       "    }\n",
       "\n",
       "    .dataframe thead th {\n",
       "        text-align: right;\n",
       "    }\n",
       "</style>\n",
       "<table border=\"1\" class=\"dataframe\">\n",
       "  <thead>\n",
       "    <tr style=\"text-align: right;\">\n",
       "      <th></th>\n",
       "      <th>gene</th>\n",
       "      <th>avg_lfc</th>\n",
       "      <th>fisher_pval</th>\n",
       "    </tr>\n",
       "  </thead>\n",
       "  <tbody>\n",
       "    <tr>\n",
       "      <th>1257</th>\n",
       "      <td>33</td>\n",
       "      <td>2.132870</td>\n",
       "      <td>2.250800e-14</td>\n",
       "    </tr>\n",
       "    <tr>\n",
       "      <th>1942</th>\n",
       "      <td>947</td>\n",
       "      <td>2.335407</td>\n",
       "      <td>4.442688e-12</td>\n",
       "    </tr>\n",
       "    <tr>\n",
       "      <th>1536</th>\n",
       "      <td>581</td>\n",
       "      <td>1.992590</td>\n",
       "      <td>2.817394e-11</td>\n",
       "    </tr>\n",
       "    <tr>\n",
       "      <th>1897</th>\n",
       "      <td>906</td>\n",
       "      <td>2.276410</td>\n",
       "      <td>4.465489e-11</td>\n",
       "    </tr>\n",
       "    <tr>\n",
       "      <th>791</th>\n",
       "      <td>1710</td>\n",
       "      <td>1.924818</td>\n",
       "      <td>5.145688e-11</td>\n",
       "    </tr>\n",
       "  </tbody>\n",
       "</table>\n",
       "</div>"
      ],
      "text/plain": [
       "      gene   avg_lfc   fisher_pval\n",
       "1257    33  2.132870  2.250800e-14\n",
       "1942   947  2.335407  4.442688e-12\n",
       "1536   581  1.992590  2.817394e-11\n",
       "1897   906  2.276410  4.465489e-11\n",
       "791   1710  1.924818  5.145688e-11"
      ]
     },
     "execution_count": 20,
     "metadata": {},
     "output_type": "execute_result"
    }
   ],
   "source": [
    "by_gene.sort_values(by = 'fisher_pval', ascending = True).head()"
   ]
  },
  {
   "cell_type": "code",
   "execution_count": 25,
   "id": "vocational-pepper",
   "metadata": {
    "ExecuteTime": {
     "end_time": "2021-03-09T19:58:08.105227Z",
     "start_time": "2021-03-09T19:58:07.870895Z"
    }
   },
   "outputs": [
    {
     "name": "stderr",
     "output_type": "stream",
     "text": [
      "/Users/tim.daley/git/crispy_code/py39/lib/python3.9/site-packages/seaborn/distributions.py:2557: FutureWarning: `distplot` is a deprecated function and will be removed in a future version. Please adapt your code to use either `displot` (a figure-level function with similar flexibility) or `histplot` (an axes-level function for histograms).\n",
      "  warnings.warn(msg, FutureWarning)\n"
     ]
    },
    {
     "data": {
      "text/plain": [
       "<AxesSubplot:xlabel='avg_lfc', ylabel='Density'>"
      ]
     },
     "execution_count": 25,
     "metadata": {},
     "output_type": "execute_result"
    },
    {
     "data": {
      "image/png": "[encoded data removed]",
      "text/plain": [
       "<Figure size 432x288 with 1 Axes>"
      ]
     },
     "metadata": {
      "needs_background": "light"
     },
     "output_type": "display_data"
    }
   ],
   "source": [
    "# looks like a hit\n",
    "seaborn.distplot(x.loc[x['gene'] == str(33), 'avg_lfc'], color = 'black', bins = 10)"
   ]
  },
  {
   "cell_type": "code",
   "execution_count": 26,
   "id": "defensive-portal",
   "metadata": {
    "ExecuteTime": {
     "end_time": "2021-03-09T19:58:25.270873Z",
     "start_time": "2021-03-09T19:58:25.073992Z"
    }
   },
   "outputs": [
    {
     "name": "stderr",
     "output_type": "stream",
     "text": [
      "/Users/tim.daley/git/crispy_code/py39/lib/python3.9/site-packages/seaborn/distributions.py:2557: FutureWarning: `distplot` is a deprecated function and will be removed in a future version. Please adapt your code to use either `displot` (a figure-level function with similar flexibility) or `histplot` (an axes-level function for histograms).\n",
      "  warnings.warn(msg, FutureWarning)\n"
     ]
    },
    {
     "data": {
      "text/plain": [
       "<AxesSubplot:xlabel='avg_lfc', ylabel='Density'>"
      ]
     },
     "execution_count": 26,
     "metadata": {},
     "output_type": "execute_result"
    },
    {
     "data": {
      "image/png": "[encoded data removed]",
      "text/plain": [
       "<Figure size 432x288 with 1 Axes>"
      ]
     },
     "metadata": {
      "needs_background": "light"
     },
     "output_type": "display_data"
    }
   ],
   "source": [
    "# does not look like a hit\n",
    "seaborn.distplot(x.loc[x['gene'] == str(947), 'avg_lfc'], color = 'black', bins = 10)"
   ]
  },
  {
   "cell_type": "code",
   "execution_count": 27,
   "id": "sought-strike",
   "metadata": {
    "ExecuteTime": {
     "end_time": "2021-03-09T19:58:35.836395Z",
     "start_time": "2021-03-09T19:58:35.623750Z"
    }
   },
   "outputs": [
    {
     "name": "stderr",
     "output_type": "stream",
     "text": [
      "/Users/tim.daley/git/crispy_code/py39/lib/python3.9/site-packages/seaborn/distributions.py:2557: FutureWarning: `distplot` is a deprecated function and will be removed in a future version. Please adapt your code to use either `displot` (a figure-level function with similar flexibility) or `histplot` (an axes-level function for histograms).\n",
      "  warnings.warn(msg, FutureWarning)\n"
     ]
    },
    {
     "data": {
      "text/plain": [
       "<AxesSubplot:xlabel='avg_lfc', ylabel='Density'>"
      ]
     },
     "execution_count": 27,
     "metadata": {},
     "output_type": "execute_result"
    },
    {
     "data": {
      "image/png": "[encoded data removed]",
      "text/plain": [
       "<Figure size 432x288 with 1 Axes>"
      ]
     },
     "metadata": {
      "needs_background": "light"
     },
     "output_type": "display_data"
    }
   ],
   "source": [
    "# is this a hit?\n",
    "seaborn.distplot(x.loc[x['gene'] == str(581), 'avg_lfc'], color = 'black', bins = 10)"
   ]
  },
  {
   "cell_type": "code",
   "execution_count": 28,
   "id": "future-reward",
   "metadata": {
    "ExecuteTime": {
     "end_time": "2021-03-09T19:58:46.468677Z",
     "start_time": "2021-03-09T19:58:46.459508Z"
    }
   },
   "outputs": [
    {
     "data": {
      "text/html": [
       "<div>\n",
       "<style scoped>\n",
       "    .dataframe tbody tr th:only-of-type {\n",
       "        vertical-align: middle;\n",
       "    }\n",
       "\n",
       "    .dataframe tbody tr th {\n",
       "        vertical-align: top;\n",
       "    }\n",
       "\n",
       "    .dataframe thead th {\n",
       "        text-align: right;\n",
       "    }\n",
       "</style>\n",
       "<table border=\"1\" class=\"dataframe\">\n",
       "  <thead>\n",
       "    <tr style=\"text-align: right;\">\n",
       "      <th></th>\n",
       "      <th>gene</th>\n",
       "      <th>avg_lfc</th>\n",
       "      <th>fisher_pval</th>\n",
       "    </tr>\n",
       "  </thead>\n",
       "  <tbody>\n",
       "    <tr>\n",
       "      <th>1942</th>\n",
       "      <td>947</td>\n",
       "      <td>2.335407</td>\n",
       "      <td>4.442688e-12</td>\n",
       "    </tr>\n",
       "    <tr>\n",
       "      <th>1897</th>\n",
       "      <td>906</td>\n",
       "      <td>2.276410</td>\n",
       "      <td>4.465489e-11</td>\n",
       "    </tr>\n",
       "    <tr>\n",
       "      <th>385</th>\n",
       "      <td>1345</td>\n",
       "      <td>2.240317</td>\n",
       "      <td>2.602018e-10</td>\n",
       "    </tr>\n",
       "    <tr>\n",
       "      <th>1257</th>\n",
       "      <td>33</td>\n",
       "      <td>2.132870</td>\n",
       "      <td>2.250800e-14</td>\n",
       "    </tr>\n",
       "    <tr>\n",
       "      <th>1536</th>\n",
       "      <td>581</td>\n",
       "      <td>1.992590</td>\n",
       "      <td>2.817394e-11</td>\n",
       "    </tr>\n",
       "  </tbody>\n",
       "</table>\n",
       "</div>"
      ],
      "text/plain": [
       "      gene   avg_lfc   fisher_pval\n",
       "1942   947  2.335407  4.442688e-12\n",
       "1897   906  2.276410  4.465489e-11\n",
       "385   1345  2.240317  2.602018e-10\n",
       "1257    33  2.132870  2.250800e-14\n",
       "1536   581  1.992590  2.817394e-11"
      ]
     },
     "execution_count": 28,
     "metadata": {},
     "output_type": "execute_result"
    }
   ],
   "source": [
    "by_gene.sort_values(by = 'avg_lfc', ascending = False).head()"
   ]
  },
  {
   "cell_type": "code",
   "execution_count": null,
   "id": "noted-consortium",
   "metadata": {},
   "outputs": [],
   "source": []
  }
 ],
 "metadata": {
  "kernelspec": {
   "display_name": "crispy_code venv",
   "language": "python",
   "name": "py39"
  },
  "language_info": {
   "codemirror_mode": {
    "name": "ipython",
    "version": 3
   },
   "file_extension": ".py",
   "mimetype": "text/x-python",
   "name": "python",
   "nbconvert_exporter": "python",
   "pygments_lexer": "ipython3",
   "version": "3.9.1"
  },
  "varInspector": {
   "cols": {
    "lenName": 16,
    "lenType": 16,
    "lenVar": 40
   },
   "kernels_config": {
    "python": {
     "delete_cmd_postfix": "",
     "delete_cmd_prefix": "del ",
     "library": "var_list.py",
     "varRefreshCmd": "print(var_dic_list())"
    },
    "r": {
     "delete_cmd_postfix": ") ",
     "delete_cmd_prefix": "rm(",
     "library": "var_list.r",
     "varRefreshCmd": "cat(var_dic_list()) "
    }
   },
   "types_to_exclude": [
    "module",
    "function",
    "builtin_function_or_method",
    "instance",
    "_Feature"
   ],
   "window_display": false
  }
 },
 "nbformat": 4,
 "nbformat_minor": 5
}
