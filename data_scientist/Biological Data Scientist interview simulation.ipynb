{
 "cells": [
  {
   "cell_type": "markdown",
   "id": "quarterly-purpose",
   "metadata": {},
   "source": [
    "This is a document detailing how I constructed the simulated data for the Bio Data Scientist interview. The problem we're going to present is a standard CRISPR screening problem.  However, we're gonna generate the data with a few \"gotchas\" that can complicate the analysis.  This includes \n",
    "* guide variability\n",
    "* GC content bias\n",
    "* ??\n",
    "* profit"
   ]
  },
  {
   "cell_type": "code",
   "execution_count": 1,
   "id": "early-overall",
   "metadata": {
    "ExecuteTime": {
     "end_time": "2021-03-05T23:21:37.031654Z",
     "start_time": "2021-03-05T23:21:36.171699Z"
    }
   },
   "outputs": [],
   "source": [
    "import numpy as np\n",
    "import pandas as pd\n",
    "from matplotlib import pyplot as plt\n",
    "import seaborn\n",
    "\n",
    "plt.style.use('ggplot')"
   ]
  },
  {
   "cell_type": "code",
   "execution_count": 2,
   "id": "soviet-holly",
   "metadata": {
    "ExecuteTime": {
     "end_time": "2021-03-05T23:21:37.036470Z",
     "start_time": "2021-03-05T23:21:37.033891Z"
    }
   },
   "outputs": [],
   "source": [
    "n_genes = 2000\n",
    "n_guides = 20\n",
    "n_pos_hits = 100"
   ]
  },
  {
   "cell_type": "code",
   "execution_count": 3,
   "id": "ordered-heaven",
   "metadata": {
    "ExecuteTime": {
     "end_time": "2021-03-05T23:21:38.748788Z",
     "start_time": "2021-03-05T23:21:37.042078Z"
    }
   },
   "outputs": [
    {
     "data": {
      "text/plain": [
       "(40000, 2)"
      ]
     },
     "execution_count": 3,
     "metadata": {},
     "output_type": "execute_result"
    }
   ],
   "source": [
    "np.random.seed(12345)\n",
    "\n",
    "def generate_random_spacer(spacer_len = 20, \n",
    "                           DNA = ['A', 'C', 'G', 'T'],\n",
    "                           probs = [0.3, 0.2, 0.2, 0.3]):\n",
    "    s = np.random.choice(DNA, size = spacer_len, replace = True, p = probs)\n",
    "    return ''.join(s)\n",
    "\n",
    "gene_names = [str(i + 1) for i in range(n_genes)]\n",
    "guide_df = pd.DataFrame({'gene': [g for g in gene_names for _ in range(n_guides)]})\n",
    "guide_df['spacer'] = [generate_random_spacer() for _ in range(guide_df.shape[0])]\n",
    "guide_df.shape"
   ]
  },
  {
   "cell_type": "code",
   "execution_count": 4,
   "id": "solid-steering",
   "metadata": {
    "ExecuteTime": {
     "end_time": "2021-03-05T23:21:38.762481Z",
     "start_time": "2021-03-05T23:21:38.750789Z"
    }
   },
   "outputs": [
    {
     "data": {
      "text/html": [
       "<div>\n",
       "<style scoped>\n",
       "    .dataframe tbody tr th:only-of-type {\n",
       "        vertical-align: middle;\n",
       "    }\n",
       "\n",
       "    .dataframe tbody tr th {\n",
       "        vertical-align: top;\n",
       "    }\n",
       "\n",
       "    .dataframe thead th {\n",
       "        text-align: right;\n",
       "    }\n",
       "</style>\n",
       "<table border=\"1\" class=\"dataframe\">\n",
       "  <thead>\n",
       "    <tr style=\"text-align: right;\">\n",
       "      <th></th>\n",
       "      <th>gene</th>\n",
       "      <th>spacer</th>\n",
       "    </tr>\n",
       "  </thead>\n",
       "  <tbody>\n",
       "    <tr>\n",
       "      <th>0</th>\n",
       "      <td>1</td>\n",
       "      <td>TCAAGGTGTGTTAAAGTTTT</td>\n",
       "    </tr>\n",
       "    <tr>\n",
       "      <th>1</th>\n",
       "      <td>1</td>\n",
       "      <td>GTCCCTTGTAATTACGGATT</td>\n",
       "    </tr>\n",
       "    <tr>\n",
       "      <th>2</th>\n",
       "      <td>1</td>\n",
       "      <td>TGTAAACCTAGATTGACCTT</td>\n",
       "    </tr>\n",
       "    <tr>\n",
       "      <th>3</th>\n",
       "      <td>1</td>\n",
       "      <td>CCGAAGTGTGTCCTGAATCT</td>\n",
       "    </tr>\n",
       "    <tr>\n",
       "      <th>4</th>\n",
       "      <td>1</td>\n",
       "      <td>TGATCCACGCTTTTATCTTA</td>\n",
       "    </tr>\n",
       "  </tbody>\n",
       "</table>\n",
       "</div>"
      ],
      "text/plain": [
       "  gene                spacer\n",
       "0    1  TCAAGGTGTGTTAAAGTTTT\n",
       "1    1  GTCCCTTGTAATTACGGATT\n",
       "2    1  TGTAAACCTAGATTGACCTT\n",
       "3    1  CCGAAGTGTGTCCTGAATCT\n",
       "4    1  TGATCCACGCTTTTATCTTA"
      ]
     },
     "execution_count": 4,
     "metadata": {},
     "output_type": "execute_result"
    }
   ],
   "source": [
    "guide_df.head()"
   ]
  },
  {
   "cell_type": "code",
   "execution_count": 5,
   "id": "animal-painting",
   "metadata": {
    "ExecuteTime": {
     "end_time": "2021-03-05T23:21:38.971777Z",
     "start_time": "2021-03-05T23:21:38.764906Z"
    }
   },
   "outputs": [
    {
     "data": {
      "text/plain": [
       "0    38000\n",
       "1     2000\n",
       "Name: true_hit, dtype: int64"
      ]
     },
     "execution_count": 5,
     "metadata": {},
     "output_type": "execute_result"
    }
   ],
   "source": [
    "# now generate labels\n",
    "pos_genes = np.random.choice(list(range(1, n_genes + 1)), \n",
    "                             size = n_pos_hits,\n",
    "                             replace = False)\n",
    "\n",
    "guide_df['true_hit'] = guide_df['gene'].map(lambda g: 1 if int(g) in pos_genes else 0)\n",
    "# check that the numbers are correct, should be 20*100\n",
    "guide_df['true_hit'].value_counts()"
   ]
  },
  {
   "cell_type": "code",
   "execution_count": 6,
   "id": "ambient-chapel",
   "metadata": {
    "ExecuteTime": {
     "end_time": "2021-03-05T23:21:38.981984Z",
     "start_time": "2021-03-05T23:21:38.973727Z"
    }
   },
   "outputs": [
    {
     "data": {
      "text/plain": [
       "0    38786\n",
       "1     1214\n",
       "Name: working_guide, dtype: int64"
      ]
     },
     "execution_count": 6,
     "metadata": {},
     "output_type": "execute_result"
    }
   ],
   "source": [
    "# have 60% working guides\n",
    "guide_df['working_guide'] = guide_df['true_hit']*np.random.binomial(n = 1, p = 0.6, size = guide_df.shape[0])\n",
    "guide_df['working_guide'].value_counts()"
   ]
  },
  {
   "cell_type": "code",
   "execution_count": 7,
   "id": "magnetic-amino",
   "metadata": {
    "ExecuteTime": {
     "end_time": "2021-03-05T23:21:39.037131Z",
     "start_time": "2021-03-05T23:21:38.983580Z"
    }
   },
   "outputs": [
    {
     "data": {
      "text/html": [
       "<div>\n",
       "<style scoped>\n",
       "    .dataframe tbody tr th:only-of-type {\n",
       "        vertical-align: middle;\n",
       "    }\n",
       "\n",
       "    .dataframe tbody tr th {\n",
       "        vertical-align: top;\n",
       "    }\n",
       "\n",
       "    .dataframe thead th {\n",
       "        text-align: right;\n",
       "    }\n",
       "</style>\n",
       "<table border=\"1\" class=\"dataframe\">\n",
       "  <thead>\n",
       "    <tr style=\"text-align: right;\">\n",
       "      <th></th>\n",
       "      <th>gene</th>\n",
       "      <th>spacer</th>\n",
       "      <th>true_hit</th>\n",
       "      <th>working_guide</th>\n",
       "      <th>gc_frac</th>\n",
       "    </tr>\n",
       "  </thead>\n",
       "  <tbody>\n",
       "    <tr>\n",
       "      <th>0</th>\n",
       "      <td>1</td>\n",
       "      <td>TCAAGGTGTGTTAAAGTTTT</td>\n",
       "      <td>0</td>\n",
       "      <td>0</td>\n",
       "      <td>0.30</td>\n",
       "    </tr>\n",
       "    <tr>\n",
       "      <th>1</th>\n",
       "      <td>1</td>\n",
       "      <td>GTCCCTTGTAATTACGGATT</td>\n",
       "      <td>0</td>\n",
       "      <td>0</td>\n",
       "      <td>0.40</td>\n",
       "    </tr>\n",
       "    <tr>\n",
       "      <th>2</th>\n",
       "      <td>1</td>\n",
       "      <td>TGTAAACCTAGATTGACCTT</td>\n",
       "      <td>0</td>\n",
       "      <td>0</td>\n",
       "      <td>0.35</td>\n",
       "    </tr>\n",
       "    <tr>\n",
       "      <th>3</th>\n",
       "      <td>1</td>\n",
       "      <td>CCGAAGTGTGTCCTGAATCT</td>\n",
       "      <td>0</td>\n",
       "      <td>0</td>\n",
       "      <td>0.50</td>\n",
       "    </tr>\n",
       "    <tr>\n",
       "      <th>4</th>\n",
       "      <td>1</td>\n",
       "      <td>TGATCCACGCTTTTATCTTA</td>\n",
       "      <td>0</td>\n",
       "      <td>0</td>\n",
       "      <td>0.35</td>\n",
       "    </tr>\n",
       "  </tbody>\n",
       "</table>\n",
       "</div>"
      ],
      "text/plain": [
       "  gene                spacer  true_hit  working_guide  gc_frac\n",
       "0    1  TCAAGGTGTGTTAAAGTTTT         0              0     0.30\n",
       "1    1  GTCCCTTGTAATTACGGATT         0              0     0.40\n",
       "2    1  TGTAAACCTAGATTGACCTT         0              0     0.35\n",
       "3    1  CCGAAGTGTGTCCTGAATCT         0              0     0.50\n",
       "4    1  TGATCCACGCTTTTATCTTA         0              0     0.35"
      ]
     },
     "execution_count": 7,
     "metadata": {},
     "output_type": "execute_result"
    }
   ],
   "source": [
    "def gc_frac(s):\n",
    "    gc_content = s.count('G') + s.count('C')\n",
    "    return gc_content/float(len(s))\n",
    "\n",
    "guide_df['gc_frac'] = guide_df['spacer'].map(lambda s: gc_frac(s))\n",
    "guide_df.head()"
   ]
  },
  {
   "cell_type": "code",
   "execution_count": 8,
   "id": "still-return",
   "metadata": {
    "ExecuteTime": {
     "end_time": "2021-03-05T23:21:39.286267Z",
     "start_time": "2021-03-05T23:21:39.042354Z"
    }
   },
   "outputs": [
    {
     "name": "stderr",
     "output_type": "stream",
     "text": [
      "/Users/tim.daley/git/crispy_code/py39/lib/python3.9/site-packages/seaborn/distributions.py:2557: FutureWarning: `distplot` is a deprecated function and will be removed in a future version. Please adapt your code to use either `displot` (a figure-level function with similar flexibility) or `histplot` (an axes-level function for histograms).\n",
      "  warnings.warn(msg, FutureWarning)\n"
     ]
    },
    {
     "data": {
      "text/plain": [
       "<AxesSubplot:xlabel='gc_frac'>"
      ]
     },
     "execution_count": 8,
     "metadata": {},
     "output_type": "execute_result"
    },
    {
     "data": {
      "image/png": "[encoded data removed]",
      "text/plain": [
       "<Figure size 432x288 with 1 Axes>"
      ]
     },
     "metadata": {},
     "output_type": "display_data"
    }
   ],
   "source": [
    "seaborn.distplot(guide_df['gc_frac'], kde = False, color = 'black')"
   ]
  },
  {
   "cell_type": "code",
   "execution_count": 9,
   "id": "fluid-folder",
   "metadata": {
    "ExecuteTime": {
     "end_time": "2021-03-05T23:21:39.512790Z",
     "start_time": "2021-03-05T23:21:39.290960Z"
    }
   },
   "outputs": [
    {
     "data": {
      "text/plain": [
       "<AxesSubplot:xlabel='true_effect'>"
      ]
     },
     "execution_count": 9,
     "metadata": {},
     "output_type": "execute_result"
    },
    {
     "data": {
      "image/png": "[encoded data removed]",
      "text/plain": [
       "<Figure size 432x288 with 1 Axes>"
      ]
     },
     "metadata": {},
     "output_type": "display_data"
    }
   ],
   "source": [
    "guide_df['true_effect'] = \\\n",
    "    guide_df['working_guide']*2.5 + \\\n",
    "    np.random.normal(loc = 0, scale = 1, size = guide_df.shape[0]) + \\\n",
    "    np.random.normal(loc = 4*guide_df['gc_frac'] - guide_df['gc_frac'].mean(),\n",
    "                     scale = 1, size = guide_df.shape[0])\n",
    "# shift to have mean zero\n",
    "guide_df['true_effect'] = guide_df['true_effect'] - guide_df['true_effect'].mean()\n",
    "seaborn.distplot(guide_df['true_effect'], bins = 40, kde = False, color = 'black')"
   ]
  },
  {
   "cell_type": "code",
   "execution_count": 10,
   "id": "biological-parker",
   "metadata": {
    "ExecuteTime": {
     "end_time": "2021-03-05T23:21:41.500227Z",
     "start_time": "2021-03-05T23:21:39.514705Z"
    }
   },
   "outputs": [
    {
     "name": "stderr",
     "output_type": "stream",
     "text": [
      "/Users/tim.daley/git/crispy_code/py39/lib/python3.9/site-packages/seaborn/_decorators.py:36: FutureWarning: Pass the following variables as keyword args: x, y. From version 0.12, the only valid positional argument will be `data`, and passing other arguments without an explicit keyword will result in an error or misinterpretation.\n",
      "  warnings.warn(\n"
     ]
    },
    {
     "data": {
      "text/plain": [
       "<AxesSubplot:xlabel='gc_frac', ylabel='true_effect'>"
      ]
     },
     "execution_count": 10,
     "metadata": {},
     "output_type": "execute_result"
    },
    {
     "data": {
      "image/png": "[encoded data removed]",
      "text/plain": [
       "<Figure size 432x288 with 1 Axes>"
      ]
     },
     "metadata": {},
     "output_type": "display_data"
    }
   ],
   "source": [
    "seaborn.regplot(guide_df['gc_frac'], guide_df['true_effect'], color = 'black', scatter_kws={'alpha':0.3})"
   ]
  },
  {
   "cell_type": "markdown",
   "id": "golden-assembly",
   "metadata": {},
   "source": [
    "Now we want to generate count data for the condition and control.  We'll simulate the counts as negative binomial random variables with mean equal $\\mu_{ij} = \\mu_{\\text{i}} + 1(\\text{condition})*$`true_effect` and variance equal to $\\mu_{ij} + \\alpha_{j} \\mu_{ij}^2$.  We'll set $\\alpha_{j} = 1$.  The numpy parametrization of the negative binomial requires $n$ and $p$, which gives the following pdf:\n",
    "$$\n",
    "p(x | n, p) = \\frac{\\Gamma(x + n)}{\\Gamma(x + 1) \\Gamma(n)} p^{n} (1 - p)^x.\n",
    "$$\n",
    "The $\\alpha, \\mu$ parametrization has pdf:\n",
    "$$\n",
    "p(x | \\mu, \\alpha) = \\frac{\\Gamma(x + \\alpha^{-1})}{\\Gamma(x + 1) \\Gamma(\\alpha^{-1})} \\left( \\frac{\\mu}{\\mu + \\alpha^{-1}} \\right)^x \\left( \\frac{1}{\\alpha \\mu + 1} \\right)^{\\alpha^{-1}}.\n",
    "$$\n",
    "\n",
    "Connecting the two gives the following connection between the parameters:\n",
    "$$\n",
    "\\begin{aligned}\n",
    "n &= \\alpha^{-1}\n",
    "\\notag \\\\\n",
    "p = \\frac{1}{\\alpha \\mu + 1}\n",
    "\\notag\n",
    "\\end{aligned}\n",
    "$$\n",
    "\n",
    "We'll have $\\alpha$ sampled from a Gamma(1, 1) distribution, then set $p$."
   ]
  },
  {
   "cell_type": "code",
   "execution_count": 11,
   "id": "exposed-titanium",
   "metadata": {
    "ExecuteTime": {
     "end_time": "2021-03-05T23:21:41.533760Z",
     "start_time": "2021-03-05T23:21:41.501805Z"
    }
   },
   "outputs": [
    {
     "name": "stdout",
     "output_type": "stream",
     "text": [
      "49.5704\n",
      "186.72829222576885\n",
      "50.0\n",
      "49.63505\n"
     ]
    },
    {
     "data": {
      "text/html": [
       "<div>\n",
       "<style scoped>\n",
       "    .dataframe tbody tr th:only-of-type {\n",
       "        vertical-align: middle;\n",
       "    }\n",
       "\n",
       "    .dataframe tbody tr th {\n",
       "        vertical-align: top;\n",
       "    }\n",
       "\n",
       "    .dataframe thead th {\n",
       "        text-align: right;\n",
       "    }\n",
       "</style>\n",
       "<table border=\"1\" class=\"dataframe\">\n",
       "  <thead>\n",
       "    <tr style=\"text-align: right;\">\n",
       "      <th></th>\n",
       "      <th>gene</th>\n",
       "      <th>spacer</th>\n",
       "      <th>true_hit</th>\n",
       "      <th>working_guide</th>\n",
       "      <th>gc_frac</th>\n",
       "      <th>true_effect</th>\n",
       "      <th>control_1</th>\n",
       "      <th>condition_1</th>\n",
       "    </tr>\n",
       "  </thead>\n",
       "  <tbody>\n",
       "    <tr>\n",
       "      <th>0</th>\n",
       "      <td>1</td>\n",
       "      <td>TCAAGGTGTGTTAAAGTTTT</td>\n",
       "      <td>0</td>\n",
       "      <td>0</td>\n",
       "      <td>0.30</td>\n",
       "      <td>0.832569</td>\n",
       "      <td>54</td>\n",
       "      <td>47</td>\n",
       "    </tr>\n",
       "    <tr>\n",
       "      <th>1</th>\n",
       "      <td>1</td>\n",
       "      <td>GTCCCTTGTAATTACGGATT</td>\n",
       "      <td>0</td>\n",
       "      <td>0</td>\n",
       "      <td>0.40</td>\n",
       "      <td>-2.675402</td>\n",
       "      <td>47</td>\n",
       "      <td>1</td>\n",
       "    </tr>\n",
       "    <tr>\n",
       "      <th>2</th>\n",
       "      <td>1</td>\n",
       "      <td>TGTAAACCTAGATTGACCTT</td>\n",
       "      <td>0</td>\n",
       "      <td>0</td>\n",
       "      <td>0.35</td>\n",
       "      <td>0.477852</td>\n",
       "      <td>69</td>\n",
       "      <td>34</td>\n",
       "    </tr>\n",
       "    <tr>\n",
       "      <th>3</th>\n",
       "      <td>1</td>\n",
       "      <td>CCGAAGTGTGTCCTGAATCT</td>\n",
       "      <td>0</td>\n",
       "      <td>0</td>\n",
       "      <td>0.50</td>\n",
       "      <td>-1.655204</td>\n",
       "      <td>47</td>\n",
       "      <td>6</td>\n",
       "    </tr>\n",
       "    <tr>\n",
       "      <th>4</th>\n",
       "      <td>1</td>\n",
       "      <td>TGATCCACGCTTTTATCTTA</td>\n",
       "      <td>0</td>\n",
       "      <td>0</td>\n",
       "      <td>0.35</td>\n",
       "      <td>-1.076659</td>\n",
       "      <td>41</td>\n",
       "      <td>10</td>\n",
       "    </tr>\n",
       "  </tbody>\n",
       "</table>\n",
       "</div>"
      ],
      "text/plain": [
       "  gene                spacer  true_hit  working_guide  gc_frac  true_effect  \\\n",
       "0    1  TCAAGGTGTGTTAAAGTTTT         0              0     0.30     0.832569   \n",
       "1    1  GTCCCTTGTAATTACGGATT         0              0     0.40    -2.675402   \n",
       "2    1  TGTAAACCTAGATTGACCTT         0              0     0.35     0.477852   \n",
       "3    1  CCGAAGTGTGTCCTGAATCT         0              0     0.50    -1.655204   \n",
       "4    1  TGATCCACGCTTTTATCTTA         0              0     0.35    -1.076659   \n",
       "\n",
       "   control_1  condition_1  \n",
       "0         54           47  \n",
       "1         47            1  \n",
       "2         69           34  \n",
       "3         47            6  \n",
       "4         41           10  "
      ]
     },
     "execution_count": 11,
     "metadata": {},
     "output_type": "execute_result"
    }
   ],
   "source": [
    "mean_seq_depth = 50\n",
    "alpha = np.random.gamma(shape = 1, scale = 0.5, size = guide_df.shape[0])\n",
    "guide_df['control_1'] = np.random.negative_binomial(n = 1.0/alpha, p = 1.0/(alpha*mean_seq_depth + 1.0), size = guide_df.shape[0])\n",
    "print(guide_df['control_1'].mean())\n",
    "\n",
    "condition_mean = mean_seq_depth/np.exp(-guide_df['true_effect'])\n",
    "print(np.mean(condition_mean))\n",
    "condition_mean = (condition_mean/np.mean(condition_mean))*mean_seq_depth\n",
    "print(np.mean(condition_mean))\n",
    "\n",
    "guide_df['condition_1'] = np.random.negative_binomial(n = 1.0/alpha, p = 1.0/(alpha*condition_mean + 1.0), size = guide_df.shape[0])\n",
    "print(guide_df['condition_1'].mean())\n",
    "guide_df.head()"
   ]
  },
  {
   "cell_type": "code",
   "execution_count": 12,
   "id": "imperial-journey",
   "metadata": {
    "ExecuteTime": {
     "end_time": "2021-03-05T23:21:41.556566Z",
     "start_time": "2021-03-05T23:21:41.535141Z"
    }
   },
   "outputs": [],
   "source": [
    "guide_df['control_2'] = np.random.negative_binomial(n = 1.0/alpha, p = 1.0/(alpha*mean_seq_depth + 1.0), size = guide_df.shape[0])\n",
    "guide_df['condition_2'] = np.random.negative_binomial(n = 1.0/alpha, p = 1.0/(alpha*condition_mean + 1.0), size = guide_df.shape[0])"
   ]
  },
  {
   "cell_type": "code",
   "execution_count": 13,
   "id": "strange-pride",
   "metadata": {
    "ExecuteTime": {
     "end_time": "2021-03-05T23:21:41.569732Z",
     "start_time": "2021-03-05T23:21:41.558718Z"
    }
   },
   "outputs": [
    {
     "data": {
      "text/html": [
       "<div>\n",
       "<style scoped>\n",
       "    .dataframe tbody tr th:only-of-type {\n",
       "        vertical-align: middle;\n",
       "    }\n",
       "\n",
       "    .dataframe tbody tr th {\n",
       "        vertical-align: top;\n",
       "    }\n",
       "\n",
       "    .dataframe thead th {\n",
       "        text-align: right;\n",
       "    }\n",
       "</style>\n",
       "<table border=\"1\" class=\"dataframe\">\n",
       "  <thead>\n",
       "    <tr style=\"text-align: right;\">\n",
       "      <th></th>\n",
       "      <th>gene</th>\n",
       "      <th>spacer</th>\n",
       "      <th>true_hit</th>\n",
       "      <th>working_guide</th>\n",
       "      <th>gc_frac</th>\n",
       "      <th>true_effect</th>\n",
       "      <th>control_1</th>\n",
       "      <th>condition_1</th>\n",
       "      <th>control_2</th>\n",
       "      <th>condition_2</th>\n",
       "    </tr>\n",
       "  </thead>\n",
       "  <tbody>\n",
       "    <tr>\n",
       "      <th>0</th>\n",
       "      <td>1</td>\n",
       "      <td>TCAAGGTGTGTTAAAGTTTT</td>\n",
       "      <td>0</td>\n",
       "      <td>0</td>\n",
       "      <td>0.30</td>\n",
       "      <td>0.832569</td>\n",
       "      <td>54</td>\n",
       "      <td>47</td>\n",
       "      <td>12</td>\n",
       "      <td>36</td>\n",
       "    </tr>\n",
       "    <tr>\n",
       "      <th>1</th>\n",
       "      <td>1</td>\n",
       "      <td>GTCCCTTGTAATTACGGATT</td>\n",
       "      <td>0</td>\n",
       "      <td>0</td>\n",
       "      <td>0.40</td>\n",
       "      <td>-2.675402</td>\n",
       "      <td>47</td>\n",
       "      <td>1</td>\n",
       "      <td>25</td>\n",
       "      <td>2</td>\n",
       "    </tr>\n",
       "    <tr>\n",
       "      <th>2</th>\n",
       "      <td>1</td>\n",
       "      <td>TGTAAACCTAGATTGACCTT</td>\n",
       "      <td>0</td>\n",
       "      <td>0</td>\n",
       "      <td>0.35</td>\n",
       "      <td>0.477852</td>\n",
       "      <td>69</td>\n",
       "      <td>34</td>\n",
       "      <td>26</td>\n",
       "      <td>45</td>\n",
       "    </tr>\n",
       "    <tr>\n",
       "      <th>3</th>\n",
       "      <td>1</td>\n",
       "      <td>CCGAAGTGTGTCCTGAATCT</td>\n",
       "      <td>0</td>\n",
       "      <td>0</td>\n",
       "      <td>0.50</td>\n",
       "      <td>-1.655204</td>\n",
       "      <td>47</td>\n",
       "      <td>6</td>\n",
       "      <td>61</td>\n",
       "      <td>2</td>\n",
       "    </tr>\n",
       "    <tr>\n",
       "      <th>4</th>\n",
       "      <td>1</td>\n",
       "      <td>TGATCCACGCTTTTATCTTA</td>\n",
       "      <td>0</td>\n",
       "      <td>0</td>\n",
       "      <td>0.35</td>\n",
       "      <td>-1.076659</td>\n",
       "      <td>41</td>\n",
       "      <td>10</td>\n",
       "      <td>28</td>\n",
       "      <td>4</td>\n",
       "    </tr>\n",
       "  </tbody>\n",
       "</table>\n",
       "</div>"
      ],
      "text/plain": [
       "  gene                spacer  true_hit  working_guide  gc_frac  true_effect  \\\n",
       "0    1  TCAAGGTGTGTTAAAGTTTT         0              0     0.30     0.832569   \n",
       "1    1  GTCCCTTGTAATTACGGATT         0              0     0.40    -2.675402   \n",
       "2    1  TGTAAACCTAGATTGACCTT         0              0     0.35     0.477852   \n",
       "3    1  CCGAAGTGTGTCCTGAATCT         0              0     0.50    -1.655204   \n",
       "4    1  TGATCCACGCTTTTATCTTA         0              0     0.35    -1.076659   \n",
       "\n",
       "   control_1  condition_1  control_2  condition_2  \n",
       "0         54           47         12           36  \n",
       "1         47            1         25            2  \n",
       "2         69           34         26           45  \n",
       "3         47            6         61            2  \n",
       "4         41           10         28            4  "
      ]
     },
     "execution_count": 13,
     "metadata": {},
     "output_type": "execute_result"
    }
   ],
   "source": [
    "guide_df.head()"
   ]
  },
  {
   "cell_type": "code",
   "execution_count": 14,
   "id": "sporting-bulgaria",
   "metadata": {
    "ExecuteTime": {
     "end_time": "2021-03-05T23:21:41.580460Z",
     "start_time": "2021-03-05T23:21:41.571757Z"
    }
   },
   "outputs": [
    {
     "data": {
      "text/plain": [
       "32"
      ]
     },
     "execution_count": 14,
     "metadata": {},
     "output_type": "execute_result"
    }
   ],
   "source": [
    "sum(guide_df['control_1'] + guide_df['control_2'] == 0)"
   ]
  },
  {
   "cell_type": "code",
   "execution_count": 15,
   "id": "amended-rental",
   "metadata": {
    "ExecuteTime": {
     "end_time": "2021-03-05T23:21:41.593802Z",
     "start_time": "2021-03-05T23:21:41.582163Z"
    }
   },
   "outputs": [
    {
     "data": {
      "text/plain": [
       "1189"
      ]
     },
     "execution_count": 15,
     "metadata": {},
     "output_type": "execute_result"
    }
   ],
   "source": [
    "sum(guide_df['condition_1'] + guide_df['condition_2'] == 0)"
   ]
  },
  {
   "cell_type": "code",
   "execution_count": 16,
   "id": "terminal-horizontal",
   "metadata": {
    "ExecuteTime": {
     "end_time": "2021-03-05T23:21:41.611286Z",
     "start_time": "2021-03-05T23:21:41.595517Z"
    }
   },
   "outputs": [
    {
     "data": {
      "text/html": [
       "<div>\n",
       "<style scoped>\n",
       "    .dataframe tbody tr th:only-of-type {\n",
       "        vertical-align: middle;\n",
       "    }\n",
       "\n",
       "    .dataframe tbody tr th {\n",
       "        vertical-align: top;\n",
       "    }\n",
       "\n",
       "    .dataframe thead th {\n",
       "        text-align: right;\n",
       "    }\n",
       "</style>\n",
       "<table border=\"1\" class=\"dataframe\">\n",
       "  <thead>\n",
       "    <tr style=\"text-align: right;\">\n",
       "      <th></th>\n",
       "      <th>gene</th>\n",
       "      <th>spacer</th>\n",
       "      <th>true_hit</th>\n",
       "      <th>working_guide</th>\n",
       "      <th>gc_frac</th>\n",
       "      <th>true_effect</th>\n",
       "      <th>control_1</th>\n",
       "      <th>condition_1</th>\n",
       "      <th>control_2</th>\n",
       "      <th>condition_2</th>\n",
       "      <th>naive_log_fc</th>\n",
       "    </tr>\n",
       "  </thead>\n",
       "  <tbody>\n",
       "    <tr>\n",
       "      <th>0</th>\n",
       "      <td>1</td>\n",
       "      <td>TCAAGGTGTGTTAAAGTTTT</td>\n",
       "      <td>0</td>\n",
       "      <td>0</td>\n",
       "      <td>0.30</td>\n",
       "      <td>0.832569</td>\n",
       "      <td>54</td>\n",
       "      <td>47</td>\n",
       "      <td>12</td>\n",
       "      <td>36</td>\n",
       "      <td>0.226124</td>\n",
       "    </tr>\n",
       "    <tr>\n",
       "      <th>1</th>\n",
       "      <td>1</td>\n",
       "      <td>GTCCCTTGTAATTACGGATT</td>\n",
       "      <td>0</td>\n",
       "      <td>0</td>\n",
       "      <td>0.40</td>\n",
       "      <td>-2.675402</td>\n",
       "      <td>47</td>\n",
       "      <td>1</td>\n",
       "      <td>25</td>\n",
       "      <td>2</td>\n",
       "      <td>-2.904165</td>\n",
       "    </tr>\n",
       "    <tr>\n",
       "      <th>2</th>\n",
       "      <td>1</td>\n",
       "      <td>TGTAAACCTAGATTGACCTT</td>\n",
       "      <td>0</td>\n",
       "      <td>0</td>\n",
       "      <td>0.35</td>\n",
       "      <td>0.477852</td>\n",
       "      <td>69</td>\n",
       "      <td>34</td>\n",
       "      <td>26</td>\n",
       "      <td>45</td>\n",
       "      <td>-0.182322</td>\n",
       "    </tr>\n",
       "    <tr>\n",
       "      <th>3</th>\n",
       "      <td>1</td>\n",
       "      <td>CCGAAGTGTGTCCTGAATCT</td>\n",
       "      <td>0</td>\n",
       "      <td>0</td>\n",
       "      <td>0.50</td>\n",
       "      <td>-1.655204</td>\n",
       "      <td>47</td>\n",
       "      <td>6</td>\n",
       "      <td>61</td>\n",
       "      <td>2</td>\n",
       "      <td>-2.494123</td>\n",
       "    </tr>\n",
       "    <tr>\n",
       "      <th>4</th>\n",
       "      <td>1</td>\n",
       "      <td>TGATCCACGCTTTTATCTTA</td>\n",
       "      <td>0</td>\n",
       "      <td>0</td>\n",
       "      <td>0.35</td>\n",
       "      <td>-1.076659</td>\n",
       "      <td>41</td>\n",
       "      <td>10</td>\n",
       "      <td>28</td>\n",
       "      <td>4</td>\n",
       "      <td>-1.540445</td>\n",
       "    </tr>\n",
       "  </tbody>\n",
       "</table>\n",
       "</div>"
      ],
      "text/plain": [
       "  gene                spacer  true_hit  working_guide  gc_frac  true_effect  \\\n",
       "0    1  TCAAGGTGTGTTAAAGTTTT         0              0     0.30     0.832569   \n",
       "1    1  GTCCCTTGTAATTACGGATT         0              0     0.40    -2.675402   \n",
       "2    1  TGTAAACCTAGATTGACCTT         0              0     0.35     0.477852   \n",
       "3    1  CCGAAGTGTGTCCTGAATCT         0              0     0.50    -1.655204   \n",
       "4    1  TGATCCACGCTTTTATCTTA         0              0     0.35    -1.076659   \n",
       "\n",
       "   control_1  condition_1  control_2  condition_2  naive_log_fc  \n",
       "0         54           47         12           36      0.226124  \n",
       "1         47            1         25            2     -2.904165  \n",
       "2         69           34         26           45     -0.182322  \n",
       "3         47            6         61            2     -2.494123  \n",
       "4         41           10         28            4     -1.540445  "
      ]
     },
     "execution_count": 16,
     "metadata": {},
     "output_type": "execute_result"
    }
   ],
   "source": [
    "guide_df['naive_log_fc'] = \\\n",
    "    np.log(guide_df['condition_1'] + guide_df['condition_2'] + 1)  - \\\n",
    "    np.log(guide_df['control_1'] + guide_df['control_2'] + 1)\n",
    "    \n",
    "guide_df.head()"
   ]
  },
  {
   "cell_type": "code",
   "execution_count": 17,
   "id": "settled-manufacturer",
   "metadata": {
    "ExecuteTime": {
     "end_time": "2021-03-05T23:21:42.699755Z",
     "start_time": "2021-03-05T23:21:41.613094Z"
    }
   },
   "outputs": [
    {
     "name": "stderr",
     "output_type": "stream",
     "text": [
      "/Users/tim.daley/git/crispy_code/py39/lib/python3.9/site-packages/seaborn/_decorators.py:36: FutureWarning: Pass the following variables as keyword args: x, y. From version 0.12, the only valid positional argument will be `data`, and passing other arguments without an explicit keyword will result in an error or misinterpretation.\n",
      "  warnings.warn(\n"
     ]
    },
    {
     "data": {
      "text/plain": [
       "<AxesSubplot:xlabel='true_effect', ylabel='naive_log_fc'>"
      ]
     },
     "execution_count": 17,
     "metadata": {},
     "output_type": "execute_result"
    },
    {
     "data": {
      "image/png": "[encoded data removed]",
      "text/plain": [
       "<Figure size 432x288 with 1 Axes>"
      ]
     },
     "metadata": {},
     "output_type": "display_data"
    }
   ],
   "source": [
    "seaborn.scatterplot(guide_df['true_effect'], guide_df['naive_log_fc'], alpha = 0.3, hue = guide_df['true_hit'])"
   ]
  },
  {
   "cell_type": "code",
   "execution_count": 18,
   "id": "forced-lancaster",
   "metadata": {
    "ExecuteTime": {
     "end_time": "2021-03-05T23:21:42.801122Z",
     "start_time": "2021-03-05T23:21:42.701552Z"
    }
   },
   "outputs": [],
   "source": [
    "cols = ['gene', 'spacer', 'control_1', 'control_2', 'condition_1', 'condition_2']\n",
    "guide_df[cols].to_csv(\"simulated_counts.txt\", sep = '\\t', header = True, index = False)"
   ]
  },
  {
   "cell_type": "code",
   "execution_count": null,
   "id": "hispanic-spectrum",
   "metadata": {},
   "outputs": [],
   "source": []
  }
 ],
 "metadata": {
  "kernelspec": {
   "display_name": "crispy_code venv",
   "language": "python",
   "name": "py39"
  },
  "language_info": {
   "codemirror_mode": {
    "name": "ipython",
    "version": 3
   },
   "file_extension": ".py",
   "mimetype": "text/x-python",
   "name": "python",
   "nbconvert_exporter": "python",
   "pygments_lexer": "ipython3",
   "version": "3.9.1"
  },
  "varInspector": {
   "cols": {
    "lenName": 16,
    "lenType": 16,
    "lenVar": 40
   },
   "kernels_config": {
    "python": {
     "delete_cmd_postfix": "",
     "delete_cmd_prefix": "del ",
     "library": "var_list.py",
     "varRefreshCmd": "print(var_dic_list())"
    },
    "r": {
     "delete_cmd_postfix": ") ",
     "delete_cmd_prefix": "rm(",
     "library": "var_list.r",
     "varRefreshCmd": "cat(var_dic_list()) "
    }
   },
   "types_to_exclude": [
    "module",
    "function",
    "builtin_function_or_method",
    "instance",
    "_Feature"
   ],
   "window_display": false
  }
 },
 "nbformat": 4,
 "nbformat_minor": 5
}
